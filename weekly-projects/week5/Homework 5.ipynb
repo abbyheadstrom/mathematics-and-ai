{
 "cells": [
  {
   "cell_type": "code",
   "execution_count": null,
   "id": "7e918709",
   "metadata": {},
   "outputs": [],
   "source": [
    "# Homework 5 (due 07/30/2024)"
   ]
  },
  {
   "cell_type": "markdown",
   "id": "415b7099",
   "metadata": {},
   "source": [
    "# SVM and Kernels\n",
    "\n",
    "### Objective\n",
    "Through this project, you will learn to use nonlinear kernels to improve a support vector classifier. The toy examples within this project aim to guide you as you build your intuition for the decision boundaries that can be generated via different kernels.\n",
    "\n",
    "This project is structured as follows:\n",
    "#### Part 1: Binary classification of synthetic data\n",
    "1.1. Generate and explore synthetic data\n",
    "\n",
    "1.2. SVM with nonlinear kernels\n",
    "#### Part 2: US Flags\n",
    "2.1. Load and explore flags data\n",
    "\n",
    "2.2. SVMs for flag pixel data\n",
    "\n",
    "2.3. Comparison to decision trees\n"
   ]
  },
  {
   "cell_type": "code",
   "execution_count": 32,
   "id": "7ad0b3b4",
   "metadata": {
    "ExecuteTime": {
     "end_time": "2024-07-30T00:10:39.373505Z",
     "start_time": "2024-07-30T00:10:38.550036Z"
    }
   },
   "outputs": [],
   "source": [
    "# standard imports\n",
    "import os, random\n",
    "import numpy as np\n",
    "import matplotlib.pyplot as plt\n",
    "\n",
    "# sklearn imports\n",
    "from sklearn.datasets import *\n",
    "from sklearn.svm import SVC\n",
    "from sklearn.model_selection import train_test_split\n",
    "from sklearn.preprocessing import StandardScaler\n",
    "from sklearn.metrics import accuracy_score\n",
    "from sklearn.inspection import DecisionBoundaryDisplay\n",
    "\n",
    "# you may need to install the PIL in your environment\n",
    "# for installation in mamba environment type \"mamba install pillow -c conda-forge\" in your miniforge prompt\n",
    "# for installation in conda environment type \"conda install pillow -c conda-forge\" in your conda prompt or anaconda prompt\n",
    "# for installation via pip type \"pip install pillow\" in your terminal\n",
    "from PIL import Image\n",
    "import pandas as pd"
   ]
  },
  {
   "cell_type": "markdown",
   "id": "a16b2d94",
   "metadata": {},
   "source": [
    "## Part 1: Binary classification of synthetic data\n",
    "\n",
    "### Part 1.1: Generate and explore synthetic data\n",
    "The next cell defines the function `generate_dataset`, which you can use to generate synthetic (i.e., computer generated) data sets for binary classification. It includes eight different methods for data-set generation. \n",
    "1. Try out each method and visualize the resulting data set. For the 'swiss' and 'scurve' data sets, try out two different values of the keyword argument `splits`.\n",
    "2. Comment on WHETHER and WHY you anticipate this data set to be relatively easy or relatively hard to classify with a linear classifier.\n",
    "3. Comment on WHETHER and WHY you anticipate this data set to be relatively easy or relatively hard to classify with a nonlinear classifier."
   ]
  },
  {
   "cell_type": "code",
   "execution_count": null,
   "id": "d0371627",
   "metadata": {},
   "outputs": [],
   "source": [
    "# Function to convert an array of real numbers into an array of 0s and 1s\n",
    "def binarize(arr, split=10):\n",
    "    # Calculate the decile thresholds\n",
    "    percentiles = int(np.ceil(100/split))\n",
    "    deciles = np.percentile(arr, np.arange(0, 100+percentiles, percentiles))\n",
    "    \n",
    "    # Create a new array to hold the modified values\n",
    "    modified_arr = np.zeros_like(arr)\n",
    "    \n",
    "    # Iterate through each decile range and set values accordingly\n",
    "    for i in range(percentiles):\n",
    "        if i % 2 == 0:\n",
    "            # Set values in even deciles to 0\n",
    "            modified_arr[(arr >= deciles[i]) & (arr < deciles[i + 1])] = 0\n",
    "        else:\n",
    "            # Set values in odd deciles to 1\n",
    "            modified_arr[(arr >= deciles[i]) & (arr < deciles[i + 1])] = 1\n",
    "    \n",
    "    return modified_arr\n",
    "\n",
    "# Function to generate datasets\n",
    "def generate_dataset(dataset_type, n_samples=300, noise=0.1, split=10, random_state=0):\n",
    "    if dataset_type == 'linearly_separable':\n",
    "        X, y = make_classification(n_samples=n_samples, n_features=2, n_redundant=0, n_informative=2,\n",
    "                                   random_state=random_state, n_clusters_per_class=1)\n",
    "    elif dataset_type == 'blobs':\n",
    "        X, y = make_blobs(n_samples=[n_samples//2, n_samples//2], random_state=random_state, cluster_std=noise)\n",
    "    elif dataset_type == 'quantiles':\n",
    "        X, y = make_gaussian_quantiles(n_samples=n_samples, n_classes=2, cov=noise, random_state=random_state)\n",
    "    elif dataset_type == 'moons':\n",
    "        X, y = make_moons(n_samples=n_samples, noise=noise, random_state=random_state)\n",
    "    elif dataset_type == 'circles':\n",
    "        X, y = make_circles(n_samples=n_samples, noise=noise, factor=0.5, random_state=random_state)\n",
    "    elif dataset_type == 'unstructured':\n",
    "        X, y = np.random.random(size=(n_samples, 2)), np.random.randint(0,2, size=(n_samples))\n",
    "    elif dataset_type == 'swiss':\n",
    "        X, y = make_swiss_roll(n_samples=n_samples, noise=noise, random_state=random_state)\n",
    "        X=np.array([X[:,0],X[:,2]]).T\n",
    "        y = binarize(y, split=split)\n",
    "    elif dataset_type == 'scurve':\n",
    "        X, y = make_s_curve(n_samples=n_samples, noise=noise, random_state=random_state)\n",
    "        X=np.array([X[:,0],X[:,2]]).T\n",
    "        y = binarize(y, split=split)\n",
    "    else:\n",
    "        raise ValueError(\"Invalid dataset type\")\n",
    "    \n",
    "    X = StandardScaler().fit_transform(X)\n",
    "    return X, y"
   ]
  },
  {
   "cell_type": "code",
   "execution_count": null,
   "id": "a28d7eca",
   "metadata": {},
   "outputs": [],
   "source": [
    "# Generate and visualize data blobs\n",
    "'''ADD SOME CODE HERE'''\n",
    "\n",
    "dataset_types = ['linearly_separable', 'blobs', 'quantiles', 'unstructured', 'moons', 'circles', 'unstructured', 'swiss', 'scurve']\n",
    "\n",
    "def get_color(val): \n",
    "    if val == 1: \n",
    "        return 'blue'\n",
    "    if val == 0: \n",
    "        return 'red'\n",
    "for dataset_type in dataset_types: \n",
    "    X, y = generate_dataset(dataset_type)\n",
    "    \n",
    "    x_cols = X[:,0]\n",
    "    y_cols = X[:,1]\n",
    "    for i in range (len(x_cols)-1):\n",
    "        \n",
    "        plt.plot(x_cols[i], y_cols[i], marker='o', color=get_color(y[i]))\n",
    "    \n",
    "    print(dataset_type)\n",
    "    plt.show()\n",
    "    "
   ]
  },
  {
   "cell_type": "markdown",
   "id": "eafe629c",
   "metadata": {},
   "source": [
    "I anticipate that this data set will be easy to classify because the blobs have a distinct separation between the two."
   ]
  },
  {
   "cell_type": "code",
   "execution_count": null,
   "id": "4cce9565",
   "metadata": {},
   "outputs": [],
   "source": [
    "# Generate and visualize unstructured data\n",
    "'''ADD SOME CODE HERE'''"
   ]
  },
  {
   "cell_type": "markdown",
   "id": "37602a2d",
   "metadata": {},
   "source": [
    "I anticipate that this data set will be hard to classify because there is no pattern to the data."
   ]
  },
  {
   "cell_type": "code",
   "execution_count": null,
   "id": "bc3080bf",
   "metadata": {},
   "outputs": [],
   "source": [
    "# Generate and visualize circles data set\n",
    "'''ADD SOME CODE HERE'''"
   ]
  },
  {
   "cell_type": "markdown",
   "id": "c60f821f",
   "metadata": {},
   "source": [
    "I anticipate that this data set will be easy to classify becasue there is a clear ring of separation between the two sections — but it will have to use a nonlinear classifier. "
   ]
  },
  {
   "cell_type": "code",
   "execution_count": null,
   "id": "8e532eb1",
   "metadata": {},
   "outputs": [],
   "source": [
    "# Generate and visualize Gaussian quantiles\n",
    "'''ADD SOME CODE HERE'''"
   ]
  },
  {
   "cell_type": "markdown",
   "id": "adcb66d6",
   "metadata": {},
   "source": [
    "I anticipate that this data set will be fairly easy to classify using a nonlinear classifier because there is a circular pattern separating the data"
   ]
  },
  {
   "cell_type": "code",
   "execution_count": null,
   "id": "643ef8c6",
   "metadata": {},
   "outputs": [],
   "source": [
    "# Generate and visualize linearly separable data\n",
    "'''ADD SOME CODE HERE'''"
   ]
  },
  {
   "cell_type": "markdown",
   "id": "9154ab5a",
   "metadata": {},
   "source": [
    "I anticipate that this data set will be easily separated (with some error close to the line) because the blob is split down the line. "
   ]
  },
  {
   "cell_type": "code",
   "execution_count": null,
   "id": "22355bda",
   "metadata": {},
   "outputs": [],
   "source": [
    "# Generate and visualize moons data set\n",
    "'''ADD SOME CODE HERE'''"
   ]
  },
  {
   "cell_type": "markdown",
   "id": "434dbaf5",
   "metadata": {},
   "source": [
    "I anticipate that this data set will be easy to classify becasue there is a separation line that will be able to be modeled using a nonlinear classifier. "
   ]
  },
  {
   "cell_type": "code",
   "execution_count": null,
   "id": "82662d56",
   "metadata": {},
   "outputs": [],
   "source": [
    "# Generate and visualize swiss role with 2 split sets\n",
    "X, y = generate_dataset('swiss', split=10)\n",
    "    \n",
    "x_cols = X[:,0]\n",
    "y_cols = X[:,1]\n",
    "for i in range (len(x_cols)-1):\n",
    "        \n",
    "    plt.plot(x_cols[i], y_cols[i], marker='o', color=get_color(y[i]))\n",
    "\n",
    "plt.show()\n",
    "\n",
    "\n",
    "X, y = generate_dataset('swiss', split=10)\n",
    "    \n",
    "x_cols = X[:,0]\n",
    "y_cols = X[:,1]\n",
    "for i in range (len(x_cols)-1):\n",
    "        \n",
    "    plt.plot(x_cols[i], y_cols[i], marker='o', color=get_color(y[i]))\n",
    "\n",
    "plt.show()"
   ]
  },
  {
   "cell_type": "markdown",
   "id": "b817b7a1",
   "metadata": {},
   "source": [
    "I anticipate that this data set [ADD SOME TEXT HERE]"
   ]
  },
  {
   "cell_type": "code",
   "execution_count": null,
   "id": "35de22a7",
   "metadata": {},
   "outputs": [],
   "source": [
    "# Generate and visualize S curve with 2 split sets\n",
    "X, y = generate_dataset('scurve', split=10)\n",
    "    \n",
    "x_cols = X[:,0]\n",
    "y_cols = X[:,1]\n",
    "for i in range (len(x_cols)-1):\n",
    "        \n",
    "    plt.plot(x_cols[i], y_cols[i], marker='o', color=get_color(y[i]))\n",
    "\n",
    "plt.show()\n",
    "\n",
    "\n",
    "X, y = generate_dataset('scurve', split=10)\n",
    "    \n",
    "x_cols = X[:,0]\n",
    "y_cols = X[:,1]\n",
    "for i in range (len(x_cols)-1):\n",
    "        \n",
    "    plt.plot(x_cols[i], y_cols[i], marker='o', color=get_color(y[i]))\n",
    "\n",
    "plt.show()"
   ]
  },
  {
   "cell_type": "markdown",
   "id": "99672f28",
   "metadata": {},
   "source": [
    "I anticipate that this data set [ADD SOME TEXT HERE]"
   ]
  },
  {
   "cell_type": "code",
   "execution_count": null,
   "id": "f2987396",
   "metadata": {},
   "outputs": [],
   "source": [
    "# Generate and visualize swiss role with 10 split sets\n",
    "'''ADD SOME CODE HERE'''"
   ]
  },
  {
   "cell_type": "markdown",
   "id": "49f3fbca",
   "metadata": {},
   "source": [
    "I anticipate that this data set [ADD SOME TEXT HERE]"
   ]
  },
  {
   "cell_type": "code",
   "execution_count": null,
   "id": "9c9c9e45",
   "metadata": {},
   "outputs": [],
   "source": [
    "# Generate and visualize S curve with 10 split sets\n",
    "'''ADD SOME CODE HERE'''"
   ]
  },
  {
   "cell_type": "markdown",
   "id": "2db61e0f",
   "metadata": {},
   "source": [
    "I anticipate that this data set [ADD SOME TEXT HERE]. "
   ]
  },
  {
   "cell_type": "markdown",
   "id": "b43ec602",
   "metadata": {},
   "source": [
    "### Part 1.2: SVM with nonlinear kernels\n",
    "\n",
    "The next cell defines the function `kernel_comparison`, which you can use to visually compare the decision boundaries generated by SVMs with different kernels. \n",
    "\n",
    "1. The kernel comparison currently produces only visual results. Add code to the function so that it also outputs train and test accuracy of the different SVMs. (Note: Think carefully about where the right place in the code is to do a train-test split.)\n",
    "2. Run the kernel comparison for the data sets from Part 1.1. Do the results confirm or contradict your expectations that you formulated in Part 1.1.? Did any of the results surprise you?\n",
    "3. Consult sklearn's documentation to learn how the keyword arguments `degree` and `gamma` affect your classifier. Try out a few different values of these parameters. How and what can one infer from the shape of the decision boundary about the classifier's `degree` or `gamma`?"
   ]
  },
  {
   "cell_type": "code",
   "execution_count": null,
   "id": "7d069234",
   "metadata": {},
   "outputs": [],
   "source": [
    "def kernel_comparison(X, y, support_vectors=True, tight_box=False, if_flag=False, gamma=3, degree=3):\n",
    "    \n",
    "    # first make a train and test set so that we don't have data leakage\n",
    "    X_train, X_test, y_train, y_test = train_test_split(X, y)\n",
    "    \n",
    "    \n",
    "\n",
    "    fig = plt.figure(figsize=(10,3))\n",
    "    \n",
    "    \n",
    "    for ikernel, kernel in enumerate(['linear', 'poly', 'rbf', 'sigmoid']):\n",
    "        print(kernel)\n",
    "        # Train the SVC\n",
    "        clf = SVC(kernel=kernel, degree=degree, gamma=gamma).fit(X_train, y_train)\n",
    "        pred = clf.predict(X_test)\n",
    "        accuracy = accuracy_score(y_test, pred)\n",
    "        print(accuracy)\n",
    "    \n",
    "        # Settings for plotting\n",
    "        ax = plt.subplot(1,4,1+ikernel)\n",
    "        if if_flag:\n",
    "            #width = \n",
    "            #length = \n",
    "            x_min, x_max, y_min, y_max = -width/2, width/2, -3, 3\n",
    "            ax.set(xlim=(x_min, x_max), ylim=(y_min, y_max))\n",
    "    \n",
    "        # Plot decision boundary and margins\n",
    "        common_params = {\"estimator\": clf, \"X\": X, \"ax\": ax}\n",
    "        DecisionBoundaryDisplay.from_estimator(\n",
    "            **common_params,\n",
    "            response_method=\"predict\",\n",
    "            plot_method=\"pcolormesh\",\n",
    "            alpha=0.3,\n",
    "        )\n",
    "        DecisionBoundaryDisplay.from_estimator(\n",
    "            **common_params,\n",
    "            response_method=\"decision_function\",\n",
    "            plot_method=\"contour\",\n",
    "            levels=[-1, 0, 1],\n",
    "            colors=[\"k\", \"k\", \"k\"],\n",
    "            linestyles=[\"--\", \"-\", \"--\"],\n",
    "        )\n",
    "    \n",
    "        if support_vectors:\n",
    "            # Plot bigger circles around samples that serve as support vectors\n",
    "            ax.scatter(\n",
    "                clf.support_vectors_[:, 0],\n",
    "                clf.support_vectors_[:, 1],\n",
    "                s=150,\n",
    "                facecolors=\"none\",\n",
    "                edgecolors=\"k\",\n",
    "            )\n",
    "\n",
    "        # Plot samples by color and add legend\n",
    "        ax.scatter(X[:, 0], X[:, 1], c=y, s=30, edgecolors=\"k\")\n",
    "        ax.set_title(kernel)\n",
    "        ax.axis('off')\n",
    "        if tight_box:\n",
    "            ax.set_xlim([X[:, 0].min(), X[:, 0].max()])\n",
    "            ax.set_ylim([X[:, 1].min(), X[:, 1].max()])\n",
    "            \n",
    "        \n",
    "    \n",
    "        \n",
    "\n",
    "\n",
    "        '''ADD SOME CODE HERE'''\n",
    "        \n"
   ]
  },
  {
   "cell_type": "code",
   "execution_count": null,
   "id": "7e084580",
   "metadata": {},
   "outputs": [],
   "source": [
    "# Show results of kernel comparison for data sets from part 1\n",
    "for dataset_type in dataset_types: \n",
    "    X, y = generate_dataset(dataset_type)\n",
    "    \n",
    "    print(dataset_type)\n",
    "    kernel_comparison(X,y)"
   ]
  },
  {
   "cell_type": "markdown",
   "id": "57fc154e",
   "metadata": {},
   "source": [
    "To summarize the results of the kernel comparison, [ADD SOME TEXT HERE]. "
   ]
  },
  {
   "cell_type": "code",
   "execution_count": null,
   "id": "0698241b",
   "metadata": {},
   "outputs": [],
   "source": [
    "#examine degree and gamma\n",
    "              \n",
    "for dataset_type in dataset_types: \n",
    "    for idegree, degree in enumerate([2,3,4]):\n",
    "        print(dataset_type)\n",
    "        print(degree)\n",
    "        X, y = generate_dataset(dataset_type)\n",
    "    \n",
    "        kernel_comparison(X,y, degree=degree)\n"
   ]
  },
  {
   "cell_type": "code",
   "execution_count": null,
   "outputs": [],
   "source": [
    "for dataset_type in dataset_types: \n",
    "    for igamma, gamma in enumerate([2,3,4]):\n",
    "        print(dataset_type)\n",
    "        print(gamma)\n",
    "        X, y = generate_dataset(dataset_type)\n",
    "    \n",
    "        kernel_comparison(X,y,gamma=gamma)"
   ],
   "metadata": {
    "collapsed": false
   },
   "id": "632ba6787481ee2d"
  },
  {
   "cell_type": "markdown",
   "id": "04ad9be1",
   "metadata": {},
   "source": [
    "The `degree` argument affects [ADD NAME OF DATA GENERATION METHOD]. It changes the model by [ADD SOME TEXT HERE]. This affects the model's bias-variance tradeoff by [ADD SOME TEXT HERE]. \n",
    "\n",
    "As one increases the `degree`, the decision boundary [ADD SOME TEXT HERE]. \n",
    "\n",
    "The `gamma` argument affects [ADD NAME OF DATA GENERATION METHOD]. It changes the model by [ADD SOME TEXT HERE]. This affects the model's bias-variance tradeoff by [ADD SOME TEXT HERE]. \n",
    "\n",
    "As one increases `gamma`, the decision boundary of [ADD SOME TEXT HERE]. \n"
   ]
  },
  {
   "cell_type": "markdown",
   "id": "3fce9c37",
   "metadata": {},
   "source": [
    "## Part 2: US Flags\n",
    "\n",
    "### Part 2.1: Load and explore flags data\n",
    "The function `load_images` loads the image data from the flags folder and turns each image into a binary (i.e., black and white) array.\n",
    "\n",
    "1. Load the flags data.\n",
    "2. Display four flags of your choice in a figure. Use the `matplotlib` commands `subplot` and `imshow` to create a figure with 2x2 flags. Consult the `matplotlib` documentation to find a way set the aspect ratio of your displayed flags to match their original aspect ratio. Update your code accordingly."
   ]
  },
  {
   "cell_type": "code",
   "execution_count": null,
   "id": "d2bf1f42",
   "metadata": {},
   "outputs": [],
   "source": [
    "def load_images(folder):\n",
    "    images = []\n",
    "    labels = []\n",
    "    for filename in os.listdir(folder):\n",
    "        if filename.endswith(\".png\"):\n",
    "            img_path = os.path.join(folder, filename)\n",
    "            img = Image.open(img_path).convert('L')  # Convert image to black and white\n",
    "            img = np.array(img)//(256/2) # Convert to BW\n",
    "            images.append(img)\n",
    "            labels.append(filename.split('.')[0])  # Extract the state code as label\n",
    "    return images, labels"
   ]
  },
  {
   "cell_type": "code",
   "execution_count": null,
   "id": "589fc481",
   "metadata": {},
   "outputs": [],
   "source": [
    "# Display four black-and-white flags in a 2x2 grid\n",
    "'''ADD SOME CODE HERE'''\n",
    "images, labels = load_images('flags')\n",
    "\n",
    "\n",
    "four_images = []\n",
    "four_labels = []\n",
    "i =0\n",
    "while i < 4:\n",
    "    num = np.random.randint(0, high=len(images))\n",
    "    img = images[num]\n",
    "    lab = labels[num]\n",
    "    four_images.append(img)\n",
    "    four_labels.append(lab)\n",
    "    \n",
    "    i += 1\n",
    "\n",
    "fig, axes = plt.subplots(2, 2, figsize=(10, 10))\n",
    "for i, ax in enumerate(axes.flatten()):\n",
    "    ax.imshow(four_images[i], cmap='gray')\n",
    "    ax.set_title(four_labels[i])\n",
    "    ax.axis('off')\n",
    "    \n",
    "plt.show()\n",
    "\n",
    "    "
   ]
  },
  {
   "cell_type": "markdown",
   "id": "1182c4ec",
   "metadata": {},
   "source": [
    "### Part 2.2: SVMs for flag pixel data\n",
    "The function `sample_pixels` samples a pixel from a given image uniformly at random. \n",
    "\n",
    "1. Use the `sample_pixels`  function to generate synthetic data sets of pixels from for a flag image.\n",
    "2. Update the `kernel_comparison` function so that if `if_flag` is `True` the decision boundaries are plotted in a 2x2 grid of subplots with plot ranges matching the height and width of the flags.\n",
    "3. Show the results of the kernel comparison for the four flags that your previously selected. Use the highest values of `degree` and `gamma` that still run *reasonably fast* on your laptop.\n",
    "4. Adjust your code so that you can run the quantitative part (i.e., the calculation of train and test accuracy) without plotting the decision boundaries. Run the adjusted code on all flags to indentify for each kernel the flags that yield to best easiest-to-classify and hardest-to-classify data sets. Test how the number of of pixels sampled affects your results."
   ]
  },
  {
   "cell_type": "code",
   "execution_count": 30,
   "id": "18d22c32",
   "metadata": {
    "ExecuteTime": {
     "end_time": "2024-07-30T00:03:50.109092Z",
     "start_time": "2024-07-30T00:03:50.103430Z"
    }
   },
   "outputs": [],
   "source": [
    "def sample_pixels(image, num_samples=100):\n",
    "    pixel_data = []\n",
    "    pixel_labels = []\n",
    "    height, width = image.shape\n",
    "    for _ in range(num_samples):\n",
    "        x1 = random.randint(0, width - 1)\n",
    "        x2 = random.randint(0, height - 1)\n",
    "        pixel_data.append([x1/width-0.5, x2/width-0.5])\n",
    "        pixel_labels.append(image[x2,x1])\n",
    "    return np.array(pixel_data), np.array(pixel_labels, dtype=int), height, width"
   ]
  },
  {
   "cell_type": "code",
   "execution_count": 31,
   "id": "bb7fb8cf",
   "metadata": {
    "ExecuteTime": {
     "end_time": "2024-07-30T00:03:52.397506Z",
     "start_time": "2024-07-30T00:03:50.990888Z"
    }
   },
   "outputs": [
    {
     "name": "stdout",
     "output_type": "stream",
     "text": [
      "[[-0.09179688 -0.30195312]\n",
      " [-0.328125   -0.35742188]\n",
      " [ 0.25195312 -0.23125   ]\n",
      " [-0.0328125  -0.29101562]\n",
      " [-0.45820312 -0.41914062]\n",
      " [-0.36523438 -0.13984375]\n",
      " [-0.2484375  -0.13203125]\n",
      " [ 0.46875    -0.20625   ]\n",
      " [ 0.43632812 -0.1515625 ]\n",
      " [ 0.49023438 -0.2484375 ]\n",
      " [ 0.28320312 -0.11601563]\n",
      " [-0.47304687 -0.4953125 ]\n",
      " [-0.17617187 -0.15703125]\n",
      " [ 0.26679688 -0.27226563]\n",
      " [ 0.0640625  -0.41445312]\n",
      " [ 0.09960938 -0.45507812]\n",
      " [ 0.20625    -0.36132812]\n",
      " [ 0.47304687 -0.246875  ]\n",
      " [-0.44765625 -0.39804688]\n",
      " [-0.01367188  0.00703125]\n",
      " [-0.22226563 -0.03828125]\n",
      " [ 0.271875   -0.03242187]\n",
      " [ 0.23320312 -0.14804688]\n",
      " [-0.30273438 -0.20742187]\n",
      " [-0.24453125 -0.484375  ]\n",
      " [-0.32421875 -0.40820312]\n",
      " [-0.33007812  0.01445312]\n",
      " [-0.01875    -0.27734375]\n",
      " [ 0.128125   -0.41679688]\n",
      " [ 0.39882812 -0.1125    ]\n",
      " [ 0.44101563 -0.02421875]\n",
      " [ 0.18359375 -0.17890625]\n",
      " [-0.0984375  -0.08125   ]\n",
      " [ 0.3828125  -0.16171875]\n",
      " [-0.4546875  -0.22070312]\n",
      " [-0.3765625  -0.38125   ]\n",
      " [ 0.39921875 -0.24570313]\n",
      " [ 0.14804688 -0.15507813]\n",
      " [-0.32578125 -0.0875    ]\n",
      " [ 0.21835938  0.01289063]\n",
      " [-0.11640625 -0.46679688]\n",
      " [ 0.37929687 -0.17929688]\n",
      " [ 0.06835938 -0.31601563]\n",
      " [ 0.41445312 -0.05625   ]\n",
      " [-0.3421875  -0.19726562]\n",
      " [ 0.18710938 -0.11054687]\n",
      " [ 0.35625    -0.00820312]\n",
      " [ 0.0890625  -0.12539062]\n",
      " [-0.234375   -0.34492187]\n",
      " [ 0.19648438 -0.40195313]\n",
      " [-0.103125   -0.34648438]\n",
      " [-0.47460938 -0.16992188]\n",
      " [ 0.26484375 -0.47226563]\n",
      " [ 0.3515625  -0.21210937]\n",
      " [ 0.3578125  -0.49804688]\n",
      " [-0.15429688 -0.26289062]\n",
      " [-0.31875     0.01054687]\n",
      " [ 0.37421875 -0.14257812]\n",
      " [-0.1015625  -0.034375  ]\n",
      " [ 0.12070313 -0.4578125 ]\n",
      " [ 0.25234375 -0.02734375]\n",
      " [-0.25273438 -0.18671875]\n",
      " [-0.31953125 -0.17734375]\n",
      " [ 0.17070312 -0.0140625 ]\n",
      " [-0.1265625  -0.00429687]\n",
      " [-0.22226563 -0.340625  ]\n",
      " [ 0.41367188 -0.39414063]\n",
      " [ 0.2125     -0.371875  ]\n",
      " [-0.21289062 -0.16015625]\n",
      " [-0.28515625 -0.28984375]\n",
      " [-0.478125   -0.0890625 ]\n",
      " [-0.35117188 -0.18867187]\n",
      " [ 0.37070313 -0.04414062]\n",
      " [ 0.25390625 -0.1546875 ]\n",
      " [-0.39609375 -0.31367187]\n",
      " [-0.33007812 -0.46640625]\n",
      " [ 0.0671875  -0.3890625 ]\n",
      " [ 0.11054688 -0.22226563]\n",
      " [ 0.35898438 -0.35820313]\n",
      " [-0.49453125 -0.17695312]\n",
      " [ 0.34960938 -0.165625  ]\n",
      " [-0.46992187 -0.20039062]\n",
      " [-0.49375    -0.07148437]\n",
      " [-0.10625    -0.43554688]\n",
      " [-0.25898437 -0.42070313]\n",
      " [ 0.05546875 -0.07226562]\n",
      " [-0.29023437 -0.27226563]\n",
      " [ 0.18554688 -0.11171875]\n",
      " [ 0.13789063 -0.109375  ]\n",
      " [-0.28671875  0.01835937]\n",
      " [ 0.12890625 -0.11679688]\n",
      " [ 0.38398438  0.0078125 ]\n",
      " [ 0.42304688 -0.2484375 ]\n",
      " [ 0.3625     -0.27734375]\n",
      " [-0.11367187  0.00273437]\n",
      " [-0.06914063 -0.18398437]\n",
      " [-0.13867188 -0.40546875]\n",
      " [ 0.25546875 -0.24648437]\n",
      " [-0.37890625 -0.04335937]\n",
      " [ 0.00703125 -0.19921875]]\n",
      "linear\n",
      "0.96\n",
      "poly\n",
      "0.96\n",
      "rbf\n",
      "0.96\n",
      "sigmoid\n",
      "0.96\n",
      "linear\n",
      "0.96\n",
      "poly\n",
      "0.96\n",
      "rbf\n",
      "0.96\n",
      "sigmoid\n",
      "0.96\n",
      "linear\n",
      "0.88\n",
      "poly\n",
      "0.88\n",
      "rbf\n",
      "0.88\n",
      "sigmoid\n",
      "0.88\n",
      "linear\n",
      "0.92\n",
      "poly\n",
      "0.92\n",
      "rbf\n",
      "0.92\n",
      "sigmoid\n",
      "0.92\n"
     ]
    },
    {
     "data": {
      "text/plain": "<Figure size 1000x300 with 4 Axes>",
      "image/png": "[encoded data removed]"
     },
     "metadata": {},
     "output_type": "display_data"
    },
    {
     "data": {
      "text/plain": "<Figure size 1000x300 with 4 Axes>",
      "image/png": "[encoded data removed]"
     },
     "metadata": {},
     "output_type": "display_data"
    },
    {
     "data": {
      "text/plain": "<Figure size 1000x300 with 4 Axes>",
      "image/png": "[encoded data removed]"
     },
     "metadata": {},
     "output_type": "display_data"
    },
    {
     "data": {
      "text/plain": "<Figure size 1000x300 with 4 Axes>",
      "image/png": "[encoded data removed]"
     },
     "metadata": {},
     "output_type": "display_data"
    }
   ],
   "source": [
    "# Visual kernel comparison for selected flags\n",
    "'''ADD SOME CODE HERE'''\n",
    "flag_pixel_sets = []\n",
    "label_arrays = []\n",
    "height_arrays = []\n",
    "width_arrays = []\n",
    "\n",
    "for image in four_images:\n",
    "    img, lab, height, width = sample_pixels(image)\n",
    "    flag_pixel_sets.append(img)\n",
    "    label_arrays.append(lab)\n",
    "    height_arrays.append(height)\n",
    "    width_arrays = []\n",
    "    \n",
    "    \n",
    "def kernel_comparison_mod(X, y, data_table, support_vectors=True, tight_box=False, if_flag=False, gamma=3, degree=3, height=0, width=0):\n",
    "    \n",
    "    # first make a train and test set so that we don't have data leakage\n",
    "    X_train, X_test, y_train, y_test = train_test_split(X, y)\n",
    "    \n",
    "    data_table.\n",
    "\n",
    "    fig = plt.figure(figsize=(10,3))\n",
    "    \n",
    "    \n",
    "    for ikernel, kernel in enumerate(['linear', 'poly', 'rbf', 'sigmoid']):\n",
    "        print(kernel)\n",
    "        # Train the SVC\n",
    "        clf = SVC(kernel=kernel, degree=degree, gamma=gamma).fit(X_train, y_train)\n",
    "        pred = clf.predict(X_test)\n",
    "        accuracy = accuracy_score(y_test, pred)\n",
    "        print(accuracy)\n",
    "    \n",
    "        # Settings for plotting\n",
    "        ax = plt.subplot(1,4,1+ikernel)\n",
    "        if if_flag:\n",
    "            x_min, x_max, y_min, y_max = -width/2, width/2, -height/2, height/2\n",
    "            ax.set(xlim=(x_min, x_max), ylim=(y_min, y_max))\n",
    "    \n",
    "        # Plot decision boundary and margins\n",
    "        common_params = {\"estimator\": clf, \"X\": X, \"ax\": ax}\n",
    "        DecisionBoundaryDisplay.from_estimator(\n",
    "            **common_params,\n",
    "            response_method=\"predict\",\n",
    "            plot_method=\"pcolormesh\",\n",
    "            alpha=0.3,\n",
    "        )\n",
    "        DecisionBoundaryDisplay.from_estimator(\n",
    "            **common_params,\n",
    "            response_method=\"decision_function\",\n",
    "            plot_method=\"contour\",\n",
    "            levels=[-1, 0, 1],\n",
    "            colors=[\"k\", \"k\", \"k\"],\n",
    "            linestyles=[\"--\", \"-\", \"--\"],\n",
    "        )\n",
    "    \n",
    "        if support_vectors:\n",
    "            # Plot bigger circles around samples that serve as support vectors\n",
    "            ax.scatter(\n",
    "                clf.support_vectors_[:, 0],\n",
    "                clf.support_vectors_[:, 1],\n",
    "                s=150,\n",
    "                facecolors=\"none\",\n",
    "                edgecolors=\"k\",\n",
    "            )\n",
    "\n",
    "        # Plot samples by color and add legend\n",
    "        ax.scatter(X[:, 0], X[:, 1], c=y, s=30, edgecolors=\"k\")\n",
    "        ax.set_title(kernel)\n",
    "        ax.axis('off')\n",
    "        if tight_box:\n",
    "            ax.set_xlim([X[:, 0].min(), X[:, 0].max()])\n",
    "            ax.set_ylim([X[:, 1].min(), X[:, 1].max()])\n",
    "\n",
    "\n",
    "print (flag_pixel_sets[0])\n",
    "i = 0\n",
    "while i < 4:\n",
    "    kernel_comparison_mod(flag_pixel_sets[i], label_arrays[i], height=height, width=width, if_flag=True)\n",
    "    i +=1\n",
    "    \n",
    "    \n",
    "    \n",
    "    \n"
   ]
  },
  {
   "cell_type": "code",
   "execution_count": null,
   "id": "57de158c",
   "metadata": {},
   "outputs": [],
   "source": [
    "# Non-visual kernel comparison for all flags\n",
    "'''ADD SOME CODE HERE'''"
   ]
  },
  {
   "cell_type": "markdown",
   "id": "f7e055c6",
   "metadata": {},
   "source": [
    "For these experiments, I set `num_samples` to [ADD NUMBER HERE] because the results of the experiments seem to be the most stable for this number of sampled pixels.\n",
    "\n",
    "The linear kernel performed best (i.e., highest test accuracy) on the flags of the following three states: \n",
    "\n",
    "[ADD TOP THREE STATE NAMES HERE]\n",
    "\n",
    "It performed worst on the flags of the following three states: \n",
    "\n",
    "[ADD TOP THREE STATE NAMES HERE]"
   ]
  },
  {
   "cell_type": "markdown",
   "id": "dc5174bc",
   "metadata": {},
   "source": [
    "The polynomial kernel performed best on the flags of the following three states: \n",
    "\n",
    "[ADD TOP THREE STATE NAMES HERE]\n",
    "\n",
    "It performed worst on the flags of the following three states: \n",
    "\n",
    "[ADD TOP THREE STATE NAMES HERE]"
   ]
  },
  {
   "cell_type": "markdown",
   "id": "5d170b9a",
   "metadata": {},
   "source": [
    "The radial-basis function kernel performed best on the flags of the following three states: \n",
    "\n",
    "[ADD TOP THREE STATE NAMES HERE]\n",
    "\n",
    "It performed worst on the flags of the following three states: \n",
    "\n",
    "[ADD TOP THREE STATE NAMES HERE]"
   ]
  },
  {
   "cell_type": "markdown",
   "id": "0aa3e040",
   "metadata": {},
   "source": [
    "The sigmoid kernel performed best on the flags of the following three states: \n",
    "\n",
    "[ADD TOP THREE STATE NAMES HERE]\n",
    "\n",
    "It performed worst on the flags of the following three states:\n",
    "\n",
    "[ADD TOP THREE STATE NAMES HERE]"
   ]
  },
  {
   "cell_type": "markdown",
   "id": "8b366061",
   "metadata": {},
   "source": [
    "### Part 2.3: Comparison to decision trees\n",
    "Decision trees and SVMs yield substantially different decision boundaries.\n",
    "\n",
    "1. An arbitrarily complex decision tree would be able to achieve perfect training accuracy on any data set. Explain why.\n",
    "2. For a very large data set of flag pixels, an arbitrarily complex decision tree is likely to achieve (almost) perfect test accuracy as well. Explain why.\n",
    "3. Select four flags for which you anticipate a *simple* decision tree to outperform all your SVMs. Write code that fits a decision tree to a flag pixel data set. Use your code to check your hypothesis. "
   ]
  },
  {
   "cell_type": "markdown",
   "id": "2279ea4e",
   "metadata": {},
   "source": [
    "An arbitrarily complex decision tree would be able to achieve perfect training accuracy on any data set, because [ADD SOME TEXT HERE].\n",
    "\n",
    "For a very large data set of flag pixels, an arbitrarily complex decision tree is likely to achieve (almost) perfect test accuracy because [ADD SOME TEXT HERE].\n",
    "\n",
    "A simple decision tree is likely to perform well on the sampled pixel data of the flags of [ADD NAMES OF AT LEAST FOUR US STATES HERE]."
   ]
  },
  {
   "cell_type": "code",
   "execution_count": null,
   "id": "e13e83ba",
   "metadata": {},
   "outputs": [],
   "source": [
    "# Comparison of SVM and decision tree performance on sampled pixel data for four flags\n",
    "\n",
    "'''ADD CODE HERE'''"
   ]
  },
  {
   "cell_type": "code",
   "execution_count": null,
   "id": "d681d68d",
   "metadata": {},
   "outputs": [],
   "source": []
  }
 ],
 "metadata": {
  "kernelspec": {
   "display_name": "Python 3 (ipykernel)",
   "language": "python",
   "name": "python3"
  },
  "language_info": {
   "codemirror_mode": {
    "name": "ipython",
    "version": 3
   },
   "file_extension": ".py",
   "mimetype": "text/x-python",
   "name": "python",
   "nbconvert_exporter": "python",
   "pygments_lexer": "ipython3",
   "version": "3.11.9"
  }
 },
 "nbformat": 4,
 "nbformat_minor": 5
}
