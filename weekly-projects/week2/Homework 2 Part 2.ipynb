{
 "cells": [
  {
   "cell_type": "code",
   "execution_count": null,
   "id": "fb91f56b-fc44-48c1-9345-8916f19d280c",
   "metadata": {},
   "outputs": [],
   "source": [
    "# Homework 2 Part 2 (due 7/07/2024)"
   ]
  },
  {
   "cell_type": "markdown",
   "id": "08469748-4a10-4631-9842-16f74f16fd7f",
   "metadata": {},
   "source": [
    "# Health-care assistance via probabilistic graphical modeling\n",
    "\n",
    "### Objective\n",
    "In this project, you will create a health-care assistance bot that can suggest diagnoses for a set of symptoms based on a probabilistic graphical model.\n",
    "\n",
    "### Step 1: Review \n",
    "Review the code from the Bayesian networks exercise.\n",
    "\n",
    "### Step 2: Acquire data\n",
    "View this [research article](https://www.nature.com/articles/ncomms5212) and download its supplementary data sets 1, 2 and 3. These data sets include the occurrences of diseases, symptoms, and their co-occurrences in the scientific literature. (For the purpose of this exercise, we are going to assume that the frequency of co-occurrences of diseases and symptoms in scientific papers is proportional to the co-occurence frequencies of actual disease cases and symptoms.)\n",
    "\n",
    "### Step 3: Create a Bayesian network\n",
    "Using commands from the `pgmpy` library, create a Bayesian network in which the probability of exhibiting a symptom is conditional on the probability of having an associated disease. \n",
    "\n",
    "### Step 4: Initialize priors\n",
    "Use the disease occurrence data to assign prior probabilities for diseases.\n",
    "\n",
    "\n",
    "### Step 5: Calculate conditional probability tables\n",
    "Use the co-occurrence data to define CPTs for each connected pair of disease and symptoms. (Hint: You may need to assign some occurrences of symptoms to an \"idiopathic disease\" to create valid CPTs.)\n",
    "\n",
    "### Step 6:\n",
    "Create a minimal interface in which your bot asks a users for a list of observed symptoms and then returns the name of the disease that is the most likely match to the symptoms. (Hint: Review the input/output commands that you have used in last week's homework.)"
   ]
  },
  {
   "cell_type": "code",
   "execution_count": null,
   "id": "38e7f11e-ec71-4e73-bbca-b02b632c0850",
   "metadata": {},
   "outputs": [],
   "source": [
    "import matplotlib.pyplot as plt\n",
    "import numpy as np\n",
    "import pandas as pd\n",
    "from sklearn import datasets\n",
    "from sklearn.linear_model import LinearRegression\n",
    "from pgmpy.models import BayesianNetwork, BayesianModel\n",
    "from pgmpy.factors.discrete import TabularCPD\n",
    "from pgmpy.inference import VariableElimination\n",
    "import itertools\n"
   ]
  },
  {
   "cell_type": "markdown",
   "source": [
    "Step 2: download data "
   ],
   "metadata": {
    "collapsed": false
   },
   "id": "c2b84128d254588c"
  },
  {
   "cell_type": "code",
   "execution_count": null,
   "outputs": [],
   "source": [
    "\n",
    "symptoms_data = pd.read_csv('symptom_data.txt', sep='\\t')\n",
    "diseases_data = pd.read_csv('disease_data.txt', sep='\\t')\n",
    "symptoms_and_diseases = pd.read_csv('diseaseXsymptom.txt', sep='\\t')\n",
    "\n",
    "symptoms_data.columns = [\"symptom\", \"occurrence\"]\n",
    "diseases_data.columns = [\"disease\", \"occurrence\"]\n",
    "symptoms_and_diseases.columns = [\"symptom\", \"disease\", \"occurrence\", \"score\"]\n",
    "\n",
    "\n",
    "s_data = symptoms_data.to_numpy()\n",
    "d_data = diseases_data.to_numpy()\n",
    "sd_data = symptoms_and_diseases.to_numpy()\n",
    "\n",
    "            "
   ],
   "metadata": {
    "collapsed": false
   },
   "id": "543a5c3cf0bc8c4"
  },
  {
   "cell_type": "markdown",
   "source": [],
   "metadata": {
    "collapsed": false
   },
   "id": "f6086df0d750de74"
  },
  {
   "cell_type": "markdown",
   "source": [],
   "metadata": {
    "collapsed": false
   },
   "id": "ee8e13811d9413aa"
  },
  {
   "cell_type": "markdown",
   "source": [
    "Step 3: create the bayesian network "
   ],
   "metadata": {
    "collapsed": false
   },
   "id": "e87de7de05895cd9"
  },
  {
   "cell_type": "code",
   "execution_count": null,
   "outputs": [],
   "source": [
    "\n",
    "# first, create an array with an ordered pair of each disease and symptom combination\n",
    "# then load that combination into the network \n",
    "network = BayesianNetwork()\n",
    "\n",
    "# for loading the symptom data\n",
    "symptoms = s_data.T[0]\n",
    "symptom_occurrences = s_data.T[1]\n",
    "\n",
    "diseases = d_data.T[0]\n",
    "disease_occurrences = d_data.T[1]\n",
    "TOTAL_DISEASE_OCCURRENCES = sum(disease_occurrences)\n",
    "TOTAL_CO_OCCURRENCES = 0\n",
    "\n",
    "\n",
    "diseases = [disease + \"disease\" for disease in diseases]\n",
    "\n",
    "# creating a dictionary to more efficiently index co-occurrences \n",
    "co_occurrences_dict = {}\n",
    " # dictionary = symptom : [[Disease, occurrence]]\n",
    "for i in range(len(sd_data)): \n",
    "    disease = (sd_data[i][1] + \"disease\")\n",
    "    symptom = sd_data[i][0]\n",
    "    occurrence = sd_data[i][2]\n",
    "    TOTAL_CO_OCCURRENCES += occurrence\n",
    "    if occurrence > 400:\n",
    "        if not symptom in co_occurrences_dict.keys():\n",
    "            co_occurrences_dict[symptom] = []\n",
    "        co_occurrences_dict.get(symptom).append([disease, occurrence])\n",
    "        \n",
    "        network.add_edge(disease, symptom)\n",
    "\n",
    "\n",
    "TOTAL_SYMPTOM_OCCURRENCES = 0\n",
    "# make dictionary — symptom: occurrence\n",
    "symptom_dict = {}\n",
    "\n",
    "\n",
    "i = 0 \n",
    "# go through each symptom\n",
    "while i < len(symptoms):\n",
    "    symp = symptoms[i]\n",
    "    occ = symptom_occurrences[i]\n",
    "    TOTAL_SYMPTOM_OCCURRENCES += occ\n",
    "    \n",
    "    #if it is in the co-occ dictionary then add it to the network\n",
    "    if symp in co_occurrences_dict.keys():\n",
    "        symptom_dict[symp] = symptom_occurrences[i]\n",
    "\n",
    "    i += 1\n",
    " \n",
    " \n",
    " \n",
    " "
   ],
   "metadata": {
    "collapsed": false
   },
   "id": "35e4e37c5e34c80f"
  },
  {
   "cell_type": "markdown",
   "source": [
    "STEP 4"
   ],
   "metadata": {
    "collapsed": false
   },
   "id": "244129a1e8e8690e"
  },
  {
   "cell_type": "code",
   "execution_count": null,
   "outputs": [],
   "source": [
    "# STEP 4\n",
    "# for each disease, create a probability distribution \n",
    "# note that the first state is having the disease and the second state is not having the disease \n",
    "total_prob = 0\n",
    "i = 0\n",
    "\n",
    "disease_prob_dict = {}\n",
    "disease_CPDs = []\n",
    "while i < len(diseases):\n",
    "\n",
    "    prob = disease_occurrences[i] / TOTAL_DISEASE_OCCURRENCES\n",
    "    disease_prob_dict[diseases[i]] = prob\n",
    "    if diseases[i] in network.nodes: \n",
    "        cpd = TabularCPD(diseases[i], variable_card=2, values = [[1-prob], [prob]])\n",
    "        network.add_cpds(cpd)\n",
    "        \n",
    "    i +=1\n",
    "    \n",
    "symptom_CPDs = []\n",
    "\n",
    "for i0, symptom in enumerate(list(set(co_occurrences_dict.keys()))): \n",
    "    \n",
    "    parents = list(network.predecessors(symptom))\n",
    "    disease_cpts = []\n",
    "    symptom_occurrence = symptom_dict.get(symptom)\n",
    "    p_symptom = symptom_occurrence / TOTAL_SYMPTOM_OCCURRENCES\n",
    "    \n",
    "    \n",
    "    for d_list in co_occurrences_dict.get(symptom): \n",
    "        disease_cpt = []\n",
    "        disease = d_list[0]\n",
    "        co_occurrence = d_list[1]\n",
    "        \n",
    "        # disease = T, symptom = T \n",
    "        p_disease = disease_prob_dict.get(disease)\n",
    "        p_symptom_and_disease = co_occurrence / TOTAL_CO_OCCURRENCES\n",
    "        p_symptom_given_disease = (p_symptom_and_disease / p_disease if p_symptom_and_disease>0 else 0.0)\n",
    "        \n",
    "        \n",
    "        # disease = T, symptom = F \n",
    "        p_symptom_not_disease = 1 - p_symptom_given_disease\n",
    "    \n",
    "    \n",
    "        # disease = F , symptom = T\n",
    "        p_disease_not_symptom = (symptom_occurrence - co_occurrence) / TOTAL_SYMPTOM_OCCURRENCES\n",
    "        \n",
    "        # disease = F, symptom = F \n",
    "        p_not_both = 1 - p_disease_not_symptom\n",
    "        \n",
    "        disease_cpt += [p_not_both]\n",
    "        disease_cpt += [p_disease_not_symptom]\n",
    "        disease_cpt += [p_symptom_not_disease]\n",
    "        disease_cpt += [p_symptom_given_disease]\n",
    "        disease_cpts.append(disease_cpt)\n",
    "        \n",
    "        \n",
    "        \n",
    "    rowT = [] # the row where symptom = T\n",
    "    for bool_combo in itertools.product([0,1], repeat=len(parents)):\n",
    "        cond_probs = [disease_cpts[i][2+b] for i, b in enumerate(bool_combo)]\n",
    "        rowT += [np.prod(cond_probs)]\n",
    "    \n",
    "    rowF = [1 - val for val in rowT]\n",
    "    \n",
    "    cpd = TabularCPD(variable=symptom, variable_card=2, \n",
    "                     values=[rowF, rowT], evidence=parents, \n",
    "                     evidence_card=[2 for _ in parents])\n",
    "    \n",
    "    \n",
    "    symptom_CPDs += [cpd]\n",
    "    network.add_cpds(cpd)\n",
    "    \n",
    "network.check_model()\n",
    "    "
   ],
   "metadata": {
    "collapsed": false
   },
   "id": "bc7abc65700cc646"
  },
  {
   "cell_type": "code",
   "execution_count": null,
   "outputs": [],
   "source": [
    "\n"
   ],
   "metadata": {
    "collapsed": false
   },
   "id": "68dc5710740d85c5"
  },
  {
   "cell_type": "code",
   "execution_count": null,
   "outputs": [],
   "source": [
    "\n"
   ],
   "metadata": {
    "collapsed": false
   },
   "id": "efbf804611c66df0"
  },
  {
   "cell_type": "markdown",
   "source": [
    "Step 6: create bot interface"
   ],
   "metadata": {
    "collapsed": false
   },
   "id": "f02d2f6b9eee9ece"
  },
  {
   "cell_type": "code",
   "execution_count": null,
   "outputs": [],
   "source": [
    "def run_bot(network):\n",
    "    \n",
    "    # initialize symptom list as empty \n",
    "    user_symptoms = []\n",
    "    \n",
    "    print(\"Welcome to DoctorBot!\")\n",
    "    input_symptom = input(\"do you want to input a symptom? y/n\").lower() == 'y'\n",
    "    \n",
    "    possible_diseases = []\n",
    "\n",
    "\n",
    "    while input_symptom:\n",
    "        \n",
    "        symptom = input(\"Please list your symptom: \")\n",
    "        user_symptoms += [symptom]\n",
    "        input_symptom = input(\"do you want to input another symptom? y/n\").lower() == 'y'\n",
    "        \n",
    "    \n",
    "    # now go through each disease\n",
    "    inference = VariableElimination(network)\n",
    "    possible_diseases = []\n",
    "    for symptom in user_symptoms:\n",
    "        ps = list(network.predecessors(symptom))\n",
    "        possible_diseases += [parent for parent in ps]\n",
    "        \n",
    "        \n",
    "    \n",
    "    # here we build a dictionary of evidence \n",
    "    evidence = {}\n",
    "    for symptom in user_symptoms:\n",
    "        evidence[symptom] = 1\n",
    "        \n",
    "    map_query_result = inference.map_query(variables=possible_diseases, evidence=evidence)\n",
    "    \n",
    "    \n",
    "    disease_probabilities = {}\n",
    "    for disease in map_query_result.keys():\n",
    "        if disease in network.nodes():\n",
    "            disease_probabilities[disease] = inference.query(variables=[disease], evidence=evidence).values\n",
    "\n",
    "    most_probable_disease = max(disease_probabilities, key=lambda disease: disease_probabilities[disease][1])\n",
    "    \n",
    "    most_probable_disease = most_probable_disease.strip(\"disease\")\n",
    "    \n",
    "    \n",
    "    \n",
    "    print(\"The most probable disease is you have is: \" +  most_probable_disease)\n",
    "    \n",
    "\n"
   ],
   "metadata": {
    "collapsed": false
   },
   "id": "908c1f7e89ab3dab"
  },
  {
   "cell_type": "code",
   "execution_count": 15,
   "outputs": [
    {
     "name": "stdout",
     "output_type": "stream",
     "text": [
      "Welcome to DoctorBot!\n",
      "['Asthmadisease', 'Coughdisease', 'Migraine Disordersdisease', 'Paindisease', 'Headachedisease']\n"
     ]
    },
    {
     "data": {
      "text/plain": "0it [00:00, ?it/s]",
      "application/vnd.jupyter.widget-view+json": {
       "version_major": 2,
       "version_minor": 0,
       "model_id": "b8c6b4b1552744488326a48bdddead22"
      }
     },
     "metadata": {},
     "output_type": "display_data"
    },
    {
     "data": {
      "text/plain": "0it [00:00, ?it/s]",
      "application/vnd.jupyter.widget-view+json": {
       "version_major": 2,
       "version_minor": 0,
       "model_id": "46e8a4f26ac248f7be714d42a7c2a6ed"
      }
     },
     "metadata": {},
     "output_type": "display_data"
    },
    {
     "name": "stdout",
     "output_type": "stream",
     "text": [
      "{'Coughdisease': 0, 'Asthmadisease': 0, 'Paindisease': 0, 'Migraine Disordersdisease': 0, 'Headachedisease': 0}\n",
      "The most probable disease is you have is: Migraine Disorder\n"
     ]
    }
   ],
   "source": [
    "run_bot(network)"
   ],
   "metadata": {
    "collapsed": false,
    "ExecuteTime": {
     "end_time": "2024-07-09T04:18:25.780888Z",
     "start_time": "2024-07-09T04:18:04.236560Z"
    }
   },
   "id": "9b0315b3d26b899d"
  },
  {
   "cell_type": "code",
   "execution_count": 14,
   "outputs": [],
   "source": [],
   "metadata": {
    "collapsed": false,
    "ExecuteTime": {
     "end_time": "2024-07-09T04:18:01.442702Z",
     "start_time": "2024-07-09T04:18:01.431212Z"
    }
   },
   "id": "7bc29c1544176447"
  },
  {
   "cell_type": "code",
   "execution_count": null,
   "outputs": [],
   "source": [],
   "metadata": {
    "collapsed": false
   },
   "id": "603f391f3a83d60e"
  }
 ],
 "metadata": {
  "kernelspec": {
   "display_name": "Python 3 (ipykernel)",
   "language": "python",
   "name": "python3"
  },
  "language_info": {
   "codemirror_mode": {
    "name": "ipython",
    "version": 3
   },
   "file_extension": ".py",
   "mimetype": "text/x-python",
   "name": "python",
   "nbconvert_exporter": "python",
   "pygments_lexer": "ipython3",
   "version": "3.11.9"
  }
 },
 "nbformat": 4,
 "nbformat_minor": 5
}
